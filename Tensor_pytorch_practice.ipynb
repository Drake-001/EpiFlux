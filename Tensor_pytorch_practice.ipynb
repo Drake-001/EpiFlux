{
 "cells": [
  {
   "cell_type": "code",
   "execution_count": 45,
   "metadata": {},
   "outputs": [
    {
     "data": {
      "text/plain": [
       "tensor([[4., 1.],\n",
       "        [5., 3.],\n",
       "        [2., 1.]])"
      ]
     },
     "execution_count": 45,
     "metadata": {},
     "output_type": "execute_result"
    }
   ],
   "source": [
    "# import library\n",
    "import torch \n",
    "\n",
    "\n",
    "\n",
    "a = torch.tensor([[4.0, 1.0], [5.0, 3.0], [2.0, 1.0]])\n",
    "a"
   ]
  },
  {
   "cell_type": "code",
   "execution_count": 34,
   "metadata": {},
   "outputs": [
    {
     "data": {
      "text/plain": [
       "tensor([0., 0., 0., 0., 0., 0., 0., 0., 0., 0.])"
      ]
     },
     "execution_count": 34,
     "metadata": {},
     "output_type": "execute_result"
    }
   ],
   "source": [
    "points = torch.zeros(10)\n",
    "points"
   ]
  },
  {
   "cell_type": "code",
   "execution_count": 36,
   "metadata": {},
   "outputs": [
    {
     "data": {
      "text/plain": [
       "tensor([[0., 0., 0., 0., 0.],\n",
       "        [0., 0., 0., 0., 0.],\n",
       "        [0., 0., 0., 0., 0.],\n",
       "        [0., 0., 0., 0., 0.],\n",
       "        [0., 0., 0., 0., 0.],\n",
       "        [0., 0., 0., 0., 0.],\n",
       "        [0., 0., 0., 0., 0.],\n",
       "        [0., 0., 0., 0., 0.],\n",
       "        [0., 0., 0., 0., 0.],\n",
       "        [0., 0., 0., 0., 0.]])"
      ]
     },
     "execution_count": 36,
     "metadata": {},
     "output_type": "execute_result"
    }
   ],
   "source": [
    "points = torch.zeros(10,5)\n",
    "points"
   ]
  },
  {
   "cell_type": "code",
   "execution_count": 53,
   "metadata": {},
   "outputs": [
    {
     "data": {
      "text/plain": [
       "tensor([[4., 1.],\n",
       "        [5., 3.],\n",
       "        [2., 1.]])"
      ]
     },
     "execution_count": 53,
     "metadata": {},
     "output_type": "execute_result"
    }
   ],
   "source": [
    "points = torch.tensor([[4.0, 1.0], [5.0, 3.0], [2.0, 1.0]])\n",
    "points"
   ]
  },
  {
   "cell_type": "code",
   "execution_count": 55,
   "metadata": {},
   "outputs": [
    {
     "data": {
      "text/plain": [
       "tensor(1.)"
      ]
     },
     "execution_count": 55,
     "metadata": {},
     "output_type": "execute_result"
    }
   ],
   "source": [
    "points = torch.tensor([[4.0, 1.0], [5.0, 3.0], [2.0, 1.0]])\n",
    "# prints the Y-coordinate of the zeroth point in dataset\n",
    "points[0,1]"
   ]
  },
  {
   "cell_type": "code",
   "execution_count": 57,
   "metadata": {},
   "outputs": [
    {
     "data": {
      "text/plain": [
       "tensor(2.)"
      ]
     },
     "execution_count": 57,
     "metadata": {},
     "output_type": "execute_result"
    }
   ],
   "source": [
    "points = torch.tensor([[4.0, 1.0], [5.0, 3.0], [2.0, 1.0]])\n",
    "# prints the X-coordinate of the second point in dataset\n",
    "points[2,0]"
   ]
  },
  {
   "cell_type": "code",
   "execution_count": 59,
   "metadata": {},
   "outputs": [
    {
     "name": "stdout",
     "output_type": "stream",
     "text": [
      "[tensor(1.), tensor(3.)]\n"
     ]
    }
   ],
   "source": [
    "points = torch.tensor([[4.0, 1.0], [5.0, 3.0], [2.0, 1.0]])\n",
    "# prints Y-coordinate of zeroth point AND Y-coordinate of first point\n",
    "print([points[0,1], points[1,1]])"
   ]
  },
  {
   "cell_type": "code",
   "execution_count": 61,
   "metadata": {},
   "outputs": [
    {
     "data": {
      "text/plain": [
       "tensor([4., 1.])"
      ]
     },
     "execution_count": 61,
     "metadata": {},
     "output_type": "execute_result"
    }
   ],
   "source": [
    "points = torch.tensor([[4.0, 1.0], [5.0, 3.0], [2.0, 1.0]])\n",
    "# prints zeroth point in dataset\n",
    "points[0]"
   ]
  },
  {
   "cell_type": "code",
   "execution_count": 4,
   "metadata": {},
   "outputs": [
    {
     "data": {
      "text/plain": [
       "[1, 2, 3]"
      ]
     },
     "execution_count": 4,
     "metadata": {},
     "output_type": "execute_result"
    }
   ],
   "source": [
    "some_list = list(range(6))\n",
    "# from 1 inclusive to 4 exclusive, in steps of 2 \n",
    "some_list[1:4]\n",
    "# output:\n",
    "# [1, 4]\n"
   ]
  },
  {
   "cell_type": "code",
   "execution_count": 5,
   "metadata": {},
   "outputs": [
    {
     "data": {
      "text/plain": [
       "[1, 3]"
      ]
     },
     "execution_count": 5,
     "metadata": {},
     "output_type": "execute_result"
    }
   ],
   "source": [
    "some_list = list(range(6))\n",
    "# from 1 inclusive to 4 exclusive, in steps of 2 \n",
    "some_list[1:4:2]\n",
    "# output:\n",
    "# [1, 4]"
   ]
  },
  {
   "cell_type": "code",
   "execution_count": 10,
   "metadata": {},
   "outputs": [
    {
     "data": {
      "text/plain": [
       "tensor([[1, 2],\n",
       "        [3, 4]])"
      ]
     },
     "execution_count": 10,
     "metadata": {},
     "output_type": "execute_result"
    }
   ],
   "source": [
    "import torch\n",
    "data = [[1, 2], [3, 4]]\n",
    "x_data = torch.tensor(data)\n",
    "x_data"
   ]
  },
  {
   "cell_type": "code",
   "execution_count": 12,
   "metadata": {},
   "outputs": [
    {
     "data": {
      "text/plain": [
       "tensor([3, 4])"
      ]
     },
     "execution_count": 12,
     "metadata": {},
     "output_type": "execute_result"
    }
   ],
   "source": [
    "import torch\n",
    "data = [[1, 2], [3, 4]]\n",
    "x_data = torch.tensor(data)\n",
    "x_data[1]"
   ]
  },
  {
   "cell_type": "code",
   "execution_count": 14,
   "metadata": {},
   "outputs": [
    {
     "data": {
      "text/plain": [
       "tensor([3, 4])"
      ]
     },
     "execution_count": 14,
     "metadata": {},
     "output_type": "execute_result"
    }
   ],
   "source": [
    "import torch\n",
    "data = [[1, 2], [3, 4]]\n",
    "x_data = torch.tensor(data)\n",
    "x_data[1]"
   ]
  },
  {
   "cell_type": "code",
   "execution_count": 16,
   "metadata": {},
   "outputs": [
    {
     "name": "stdout",
     "output_type": "stream",
     "text": [
      "[(99, 94), (74, 72), (57, 17), (74, 66), (10, 69), (20, 78), (96, 13), (55, 31), (53, 46), (94, 15), (60, 89), (68, 73), (39, 22), (87, 41), (87, 85), (17, 100), (34, 14), (79, 75), (54, 10), (14, 13), (50, 94), (57, 63), (64, 14), (8, 28), (83, 96), (31, 59), (62, 83), (20, 4), (73, 38), (98, 17), (19, 24), (51, 29), (16, 53), (91, 71), (87, 98), (74, 79), (77, 97), (36, 71), (83, 73), (80, 26), (91, 93), (91, 23), (11, 13), (81, 41), (70, 55), (71, 79), (3, 99), (11, 30), (97, 63), (94, 82)]\n"
     ]
    }
   ],
   "source": [
    "import random\n",
    "\n",
    "coordinate_pairs = [(random.randint(0, 100), random.randint(0, 100)) for _ in range(50)]\n",
    "print(coordinate_pairs)\n"
   ]
  },
  {
   "cell_type": "code",
   "execution_count": 20,
   "metadata": {},
   "outputs": [
    {
     "data": {
      "text/plain": [
       "tensor([[70, 67],\n",
       "        [34, 28],\n",
       "        [83, 55],\n",
       "        [48, 60]])"
      ]
     },
     "execution_count": 20,
     "metadata": {},
     "output_type": "execute_result"
    }
   ],
   "source": [
    "import torch\n",
    "data = [(97, 32), (70, 67), (78, 50), (32, 0), (79, 26), (61, 40), (99, 76), (84, 42), (92, 75), (86, 46), (70, 97), (47, 96), (34, 28), (75, 76), (61, 6), (99, 38), (36, 30), (47, 44), (33, 66), (86, 8), (61, 22), (20, 50), (89, 93), (83, 55), (63, 33), (38, 80), (62, 68), (73, 84), (62, 53), (5, 4), (88, 24), (23, 23), (85, 35), (10, 58), (48, 60), (52, 15), (49, 72), (79, 5), (84, 82), (74, 79), (94, 91), (30, 56), (28, 17), (89, 86), (7, 7), (62, 49), (1, 9), (88, 38), (11, 8), (68, 72)]\n",
    "x_data = torch.tensor(data)\n",
    "x_data[1:43:11]"
   ]
  },
  {
   "cell_type": "code",
   "execution_count": 1,
   "metadata": {},
   "outputs": [
    {
     "data": {
      "text/plain": [
       "tensor([85, 35])"
      ]
     },
     "execution_count": 1,
     "metadata": {},
     "output_type": "execute_result"
    }
   ],
   "source": [
    "import torch\n",
    "data = [(97, 32), (70, 67), (78, 50), (32, 0), (79, 26), (61, 40), (99, 76), (84, 42), (92, 75), (86, 46), (70, 97), (47, 96), (34, 28), (75, 76), (61, 6), (99, 38), (36, 30), (47, 44), (33, 66), (86, 8), (61, 22), (20, 50), (89, 93), (83, 55), (63, 33), (38, 80), (62, 68), (73, 84), (62, 53), (5, 4), (88, 24), (23, 23), (85, 35), (10, 58), (48, 60), (52, 15), (49, 72), (79, 5), (84, 82), (74, 79), (94, 91), (30, 56), (28, 17), (89, 86), (7, 7), (62, 49), (1, 9), (88, 38), (11, 8), (68, 72)]\n",
    "x_data = torch.tensor(data)\n",
    "x_data[32]"
   ]
  },
  {
   "cell_type": "code",
   "execution_count": 3,
   "metadata": {},
   "outputs": [],
   "source": [
    "# We move our tensor to the GPU if available\n",
    "import torch\n",
    "if torch.cuda.is_available():\n",
    "  tensor = tensor.to('cuda')\n",
    "  print(f\"Device tensor is stored on: {tensor.device}\")"
   ]
  },
  {
   "cell_type": "code",
   "execution_count": 1,
   "metadata": {},
   "outputs": [],
   "source": [
    "import torch\n",
    "from torchvision.models import resnet18, ResNet18_Weights\n",
    "model = resnet18(weights=ResNet18_Weights.DEFAULT)\n",
    "data = torch.rand(1, 3, 64, 64)\n",
    "labels = torch.rand(1, 1000)\n",
    "\n",
    "# forward pass\n",
    "prediction = model(data)\n",
    "loss = (prediction - labels).sum()\n",
    "loss.backward() #backward pass\n",
    "\n",
    "optim = torch.optim.SGD(model.parameters(), lr=1e-2, momentum=0.9)\n",
    "optim.step() #gradient descent"
   ]
  },
  {
   "cell_type": "code",
   "execution_count": 2,
   "metadata": {},
   "outputs": [
    {
     "name": "stdout",
     "output_type": "stream",
     "text": [
      "[1 2 3 4 5]\n"
     ]
    }
   ],
   "source": [
    "import numpy as np\n",
    "array = np.array([1,2,3,4,5])\n",
    "print(array)"
   ]
  },
  {
   "cell_type": "code",
   "execution_count": 3,
   "metadata": {},
   "outputs": [],
   "source": [
    "import numpy as np \n",
    "array = np.array([1,2,3,4,5])"
   ]
  },
  {
   "cell_type": "code",
   "execution_count": 10,
   "metadata": {},
   "outputs": [
    {
     "name": "stdout",
     "output_type": "stream",
     "text": [
      "[1 2 3 4 5]\n",
      "(5,)\n"
     ]
    }
   ],
   "source": [
    "import numpy as np\n",
    "array = np.array([1,2,3,4,5])\n",
    "print(array)\n",
    "\n",
    "print(array.shape)"
   ]
  },
  {
   "cell_type": "code",
   "execution_count": 11,
   "metadata": {},
   "outputs": [
    {
     "name": "stdout",
     "output_type": "stream",
     "text": [
      "tensor([1, 2, 3, 4, 5])\n",
      "torch.Size([5])\n"
     ]
    }
   ],
   "source": [
    "import torch\n",
    "tensor = torch.tensor([1,2,3,4,5])\n",
    "print(tensor)\n",
    "\n",
    "print(tensor.shape)"
   ]
  },
  {
   "cell_type": "code",
   "execution_count": 32,
   "metadata": {},
   "outputs": [
    {
     "name": "stdout",
     "output_type": "stream",
     "text": [
      "[ 1  2  3  4  5  6  7  8  9 10]\n",
      "(10,)\n"
     ]
    },
    {
     "data": {
      "text/plain": [
       "array([ 1,  2,  3,  4,  5,  6,  7,  8,  9, 10])"
      ]
     },
     "execution_count": 32,
     "metadata": {},
     "output_type": "execute_result"
    }
   ],
   "source": [
    "import numpy as np\n",
    "array = np.array([1,2,3,4,5,6,7,8,9,10])\n",
    "print(array)\n",
    "print(array.shape)\n",
    "array"
   ]
  },
  {
   "cell_type": "code",
   "execution_count": 31,
   "metadata": {},
   "outputs": [
    {
     "name": "stdout",
     "output_type": "stream",
     "text": [
      "tensor([ 1,  2,  3,  4,  5,  6,  7,  8,  9, 10])\n",
      "torch.Size([10])\n"
     ]
    },
    {
     "data": {
      "text/plain": [
       "tensor([ 1,  2,  3,  4,  5,  6,  7,  8,  9, 10])"
      ]
     },
     "execution_count": 31,
     "metadata": {},
     "output_type": "execute_result"
    }
   ],
   "source": [
    "import torch\n",
    "tensor = torch.tensor([1,2,3,4,5,6,7,8,9,10])\n",
    "print(tensor)\n",
    "print(tensor.shape)\n",
    "tensor"
   ]
  },
  {
   "cell_type": "code",
   "execution_count": 16,
   "metadata": {},
   "outputs": [
    {
     "name": "stdout",
     "output_type": "stream",
     "text": [
      "[[0. 0. 0.]\n",
      " [0. 0. 0.]\n",
      " [0. 0. 0.]]\n"
     ]
    }
   ],
   "source": [
    "# numpy\n",
    "\n",
    "zeros = np.zeros((3, 3))\n",
    "print(zeros)"
   ]
  },
  {
   "cell_type": "code",
   "execution_count": 19,
   "metadata": {},
   "outputs": [
    {
     "name": "stdout",
     "output_type": "stream",
     "text": [
      "[[0. 0. 0. ... 0. 0. 0.]\n",
      " [0. 0. 0. ... 0. 0. 0.]\n",
      " [0. 0. 0. ... 0. 0. 0.]\n",
      " ...\n",
      " [0. 0. 0. ... 0. 0. 0.]\n",
      " [0. 0. 0. ... 0. 0. 0.]\n",
      " [0. 0. 0. ... 0. 0. 0.]]\n"
     ]
    }
   ],
   "source": [
    "# numpy\n",
    "\n",
    "zeros = np.zeros((100, 100))\n",
    "print(zeros)"
   ]
  },
  {
   "cell_type": "code",
   "execution_count": 21,
   "metadata": {},
   "outputs": [
    {
     "name": "stdout",
     "output_type": "stream",
     "text": [
      "tensor([[0., 0., 0.],\n",
      "        [0., 0., 0.],\n",
      "        [0., 0., 0.]])\n"
     ]
    }
   ],
   "source": [
    "zeros = torch.zeros(3, 3)\n",
    "print(zeros)"
   ]
  },
  {
   "cell_type": "code",
   "execution_count": 23,
   "metadata": {},
   "outputs": [
    {
     "name": "stdout",
     "output_type": "stream",
     "text": [
      "tensor([[0., 0., 0., 0., 0., 0., 0., 0., 0., 0.],\n",
      "        [0., 0., 0., 0., 0., 0., 0., 0., 0., 0.],\n",
      "        [0., 0., 0., 0., 0., 0., 0., 0., 0., 0.],\n",
      "        [0., 0., 0., 0., 0., 0., 0., 0., 0., 0.],\n",
      "        [0., 0., 0., 0., 0., 0., 0., 0., 0., 0.],\n",
      "        [0., 0., 0., 0., 0., 0., 0., 0., 0., 0.],\n",
      "        [0., 0., 0., 0., 0., 0., 0., 0., 0., 0.],\n",
      "        [0., 0., 0., 0., 0., 0., 0., 0., 0., 0.],\n",
      "        [0., 0., 0., 0., 0., 0., 0., 0., 0., 0.],\n",
      "        [0., 0., 0., 0., 0., 0., 0., 0., 0., 0.]])\n"
     ]
    }
   ],
   "source": [
    "# pytorch\n",
    "import torch\n",
    "zeros = torch.zeros(10, 10)\n",
    "print(zeros)"
   ]
  },
  {
   "cell_type": "code",
   "execution_count": 26,
   "metadata": {},
   "outputs": [
    {
     "name": "stdout",
     "output_type": "stream",
     "text": [
      "tensor([[0., 0., 0., 0., 0., 0., 0., 0., 0., 0.],\n",
      "        [0., 0., 0., 0., 0., 0., 0., 0., 0., 0.],\n",
      "        [0., 0., 0., 0., 0., 0., 0., 0., 0., 0.],\n",
      "        [0., 0., 0., 0., 0., 0., 0., 0., 0., 0.],\n",
      "        [0., 0., 0., 0., 0., 0., 0., 0., 0., 0.],\n",
      "        [0., 0., 0., 0., 0., 0., 0., 0., 0., 0.],\n",
      "        [0., 0., 0., 0., 0., 0., 0., 0., 0., 0.],\n",
      "        [0., 0., 0., 0., 0., 0., 0., 0., 0., 0.],\n",
      "        [0., 0., 0., 0., 0., 0., 0., 0., 0., 0.],\n",
      "        [0., 0., 0., 0., 0., 0., 0., 0., 0., 0.]])\n"
     ]
    }
   ],
   "source": [
    "import torch\n",
    "tensor = torch.zeros(10,10)\n",
    "print(tensor)"
   ]
  },
  {
   "cell_type": "code",
   "execution_count": 29,
   "metadata": {},
   "outputs": [
    {
     "name": "stdout",
     "output_type": "stream",
     "text": [
      "tensor([[1., 1., 1., 1., 1., 1., 1., 1., 1., 1., 1., 1.],\n",
      "        [1., 1., 1., 1., 1., 1., 1., 1., 1., 1., 1., 1.],\n",
      "        [1., 1., 1., 1., 1., 1., 1., 1., 1., 1., 1., 1.],\n",
      "        [1., 1., 1., 1., 1., 1., 1., 1., 1., 1., 1., 1.],\n",
      "        [1., 1., 1., 1., 1., 1., 1., 1., 1., 1., 1., 1.],\n",
      "        [1., 1., 1., 1., 1., 1., 1., 1., 1., 1., 1., 1.],\n",
      "        [1., 1., 1., 1., 1., 1., 1., 1., 1., 1., 1., 1.],\n",
      "        [1., 1., 1., 1., 1., 1., 1., 1., 1., 1., 1., 1.],\n",
      "        [1., 1., 1., 1., 1., 1., 1., 1., 1., 1., 1., 1.],\n",
      "        [1., 1., 1., 1., 1., 1., 1., 1., 1., 1., 1., 1.],\n",
      "        [1., 1., 1., 1., 1., 1., 1., 1., 1., 1., 1., 1.],\n",
      "        [1., 1., 1., 1., 1., 1., 1., 1., 1., 1., 1., 1.]])\n"
     ]
    }
   ],
   "source": [
    "import torch\n",
    "varNet1 = torch.ones(12, 12)\n",
    "print(varNet1)"
   ]
  },
  {
   "cell_type": "code",
   "execution_count": 34,
   "metadata": {},
   "outputs": [
    {
     "name": "stdout",
     "output_type": "stream",
     "text": [
      "[[1. 1. 1.]\n",
      " [1. 1. 1.]\n",
      " [1. 1. 1.]]\n"
     ]
    },
    {
     "data": {
      "text/plain": [
       "array([[1., 1., 1.],\n",
       "       [1., 1., 1.],\n",
       "       [1., 1., 1.]])"
      ]
     },
     "execution_count": 34,
     "metadata": {},
     "output_type": "execute_result"
    }
   ],
   "source": [
    "ones = np.ones((3,3))\n",
    "print(ones)\n",
    "ones"
   ]
  },
  {
   "cell_type": "code",
   "execution_count": 36,
   "metadata": {},
   "outputs": [
    {
     "data": {
      "text/plain": [
       "tensor([[1., 1., 1.],\n",
       "        [1., 1., 1.],\n",
       "        [1., 1., 1.]])"
      ]
     },
     "execution_count": 36,
     "metadata": {},
     "output_type": "execute_result"
    }
   ],
   "source": [
    "# pytorch \n",
    "\n",
    "one = torch.ones(3,3)\n",
    "one"
   ]
  },
  {
   "cell_type": "code",
   "execution_count": 38,
   "metadata": {},
   "outputs": [
    {
     "name": "stdout",
     "output_type": "stream",
     "text": [
      "[[0.58145262 0.02073443 0.83558531]\n",
      " [0.57931346 0.31004113 0.03610814]\n",
      " [0.60063958 0.12346073 0.98534972]]\n"
     ]
    }
   ],
   "source": [
    "# NumPy random\n",
    "\n",
    "import numpy as np\n",
    "random_array = np.random.rand(3, 3)\n",
    "print(random_array)"
   ]
  },
  {
   "cell_type": "code",
   "execution_count": 40,
   "metadata": {},
   "outputs": [
    {
     "data": {
      "text/plain": [
       "array([[0.9349597 , 0.02520715, 0.46688687, 0.59182272, 0.5748897 ,\n",
       "        0.77042855, 0.14286566, 0.99032512, 0.45705169, 0.10837924],\n",
       "       [0.70823562, 0.75943382, 0.55674758, 0.34459014, 0.1888052 ,\n",
       "        0.92044335, 0.28421279, 0.84075479, 0.02430928, 0.82357717],\n",
       "       [0.83554743, 0.1749574 , 0.45263401, 0.07703226, 0.60914074,\n",
       "        0.94603289, 0.95855062, 0.49480305, 0.04796718, 0.06093929],\n",
       "       [0.50818834, 0.64302229, 0.55611258, 0.54987791, 0.77720244,\n",
       "        0.89176572, 0.96209536, 0.52107699, 0.72345632, 0.23768148],\n",
       "       [0.56622125, 0.40366209, 0.19480312, 0.12483635, 0.38018609,\n",
       "        0.75197128, 0.20897258, 0.30856452, 0.91512363, 0.25314296],\n",
       "       [0.23160158, 0.87888811, 0.98845779, 0.45625881, 0.12304857,\n",
       "        0.23476271, 0.19536179, 0.04368922, 0.86648987, 0.07330765],\n",
       "       [0.27264828, 0.09202904, 0.28532726, 0.95308326, 0.41417187,\n",
       "        0.4715007 , 0.03854304, 0.4799072 , 0.9158616 , 0.31801793],\n",
       "       [0.13870239, 0.98847544, 0.17983197, 0.46463377, 0.75386656,\n",
       "        0.53095962, 0.24774853, 0.96957873, 0.67434663, 0.94590929],\n",
       "       [0.69108592, 0.81102524, 0.47418646, 0.16246824, 0.94511466,\n",
       "        0.79325838, 0.01490037, 0.35717834, 0.02928691, 0.03976309],\n",
       "       [0.26757969, 0.57651847, 0.5019529 , 0.67915476, 0.0870179 ,\n",
       "        0.32396736, 0.33248823, 0.83842439, 0.32042088, 0.20530259]])"
      ]
     },
     "execution_count": 40,
     "metadata": {},
     "output_type": "execute_result"
    }
   ],
   "source": [
    "import numpy as np\n",
    "array = np.random.rand(10, 10)\n",
    "array"
   ]
  },
  {
   "cell_type": "code",
   "execution_count": 43,
   "metadata": {},
   "outputs": [
    {
     "name": "stdout",
     "output_type": "stream",
     "text": [
      "[10 10]\n"
     ]
    }
   ],
   "source": [
    "import numpy as np\n",
    "randar = np.array((10, 10))\n",
    "print(randar)"
   ]
  },
  {
   "cell_type": "code",
   "execution_count": 47,
   "metadata": {},
   "outputs": [
    {
     "name": "stdout",
     "output_type": "stream",
     "text": [
      "tensor([[0.9813, 0.3465, 0.7476],\n",
      "        [0.1846, 0.3892, 0.3010],\n",
      "        [0.5217, 0.7261, 0.4324]])\n",
      "torch.Size([3, 3])\n"
     ]
    },
    {
     "data": {
      "text/plain": [
       "tensor([[0.9813, 0.3465, 0.7476],\n",
       "        [0.1846, 0.3892, 0.3010],\n",
       "        [0.5217, 0.7261, 0.4324]])"
      ]
     },
     "execution_count": 47,
     "metadata": {},
     "output_type": "execute_result"
    }
   ],
   "source": [
    "import torch \n",
    "tensor = torch.rand(3,3)\n",
    "print(tensor)\n",
    "print(tensor.shape)\n",
    "tensor"
   ]
  },
  {
   "cell_type": "code",
   "execution_count": 49,
   "metadata": {},
   "outputs": [
    {
     "name": "stdout",
     "output_type": "stream",
     "text": [
      "tensor([[0.1753, 0.0449, 0.0927, 0.3132, 0.2772, 0.6372, 0.1225, 0.1596, 0.7369,\n",
      "         0.0729],\n",
      "        [0.8774, 0.4082, 0.6708, 0.6121, 0.9472, 0.9164, 0.7945, 0.0166, 0.5801,\n",
      "         0.1140],\n",
      "        [0.8064, 0.6564, 0.0131, 0.1672, 0.2322, 0.3537, 0.3276, 0.1538, 0.9231,\n",
      "         0.8660],\n",
      "        [0.7648, 0.9107, 0.2891, 0.1368, 0.7365, 0.4041, 0.3233, 0.8082, 0.2484,\n",
      "         0.0428],\n",
      "        [0.2353, 0.9971, 0.3976, 0.0784, 0.1347, 0.4087, 0.9737, 0.6730, 0.6600,\n",
      "         0.3043],\n",
      "        [0.4620, 0.4891, 0.5447, 0.2082, 0.1720, 0.9116, 0.7959, 0.8535, 0.6738,\n",
      "         0.0093],\n",
      "        [0.1914, 0.2536, 0.0304, 0.7675, 0.2753, 0.0447, 0.7941, 0.3325, 0.6314,\n",
      "         0.9938],\n",
      "        [0.0582, 0.4157, 0.4561, 0.0497, 0.6932, 0.8772, 0.4570, 0.2729, 0.5616,\n",
      "         0.0121],\n",
      "        [0.9262, 0.0113, 0.0756, 0.3102, 0.1878, 0.8236, 0.0930, 0.9016, 0.4584,\n",
      "         0.3303],\n",
      "        [0.3395, 0.3490, 0.7461, 0.2174, 0.0688, 0.8274, 0.7064, 0.9932, 0.5117,\n",
      "         0.1115]])\n",
      "torch.Size([10, 10])\n"
     ]
    },
    {
     "data": {
      "text/plain": [
       "tensor([[0.1753, 0.0449, 0.0927, 0.3132, 0.2772, 0.6372, 0.1225, 0.1596, 0.7369,\n",
       "         0.0729],\n",
       "        [0.8774, 0.4082, 0.6708, 0.6121, 0.9472, 0.9164, 0.7945, 0.0166, 0.5801,\n",
       "         0.1140],\n",
       "        [0.8064, 0.6564, 0.0131, 0.1672, 0.2322, 0.3537, 0.3276, 0.1538, 0.9231,\n",
       "         0.8660],\n",
       "        [0.7648, 0.9107, 0.2891, 0.1368, 0.7365, 0.4041, 0.3233, 0.8082, 0.2484,\n",
       "         0.0428],\n",
       "        [0.2353, 0.9971, 0.3976, 0.0784, 0.1347, 0.4087, 0.9737, 0.6730, 0.6600,\n",
       "         0.3043],\n",
       "        [0.4620, 0.4891, 0.5447, 0.2082, 0.1720, 0.9116, 0.7959, 0.8535, 0.6738,\n",
       "         0.0093],\n",
       "        [0.1914, 0.2536, 0.0304, 0.7675, 0.2753, 0.0447, 0.7941, 0.3325, 0.6314,\n",
       "         0.9938],\n",
       "        [0.0582, 0.4157, 0.4561, 0.0497, 0.6932, 0.8772, 0.4570, 0.2729, 0.5616,\n",
       "         0.0121],\n",
       "        [0.9262, 0.0113, 0.0756, 0.3102, 0.1878, 0.8236, 0.0930, 0.9016, 0.4584,\n",
       "         0.3303],\n",
       "        [0.3395, 0.3490, 0.7461, 0.2174, 0.0688, 0.8274, 0.7064, 0.9932, 0.5117,\n",
       "         0.1115]])"
      ]
     },
     "execution_count": 49,
     "metadata": {},
     "output_type": "execute_result"
    }
   ],
   "source": [
    "# pytorch random tensor creation\n",
    "\n",
    "import torch\n",
    "random_tensor = torch.rand(10, 10)\n",
    "print(random_tensor)\n",
    "print(random_tensor.shape)\n",
    "random_tensor"
   ]
  },
  {
   "cell_type": "code",
   "execution_count": 61,
   "metadata": {},
   "outputs": [
    {
     "name": "stdout",
     "output_type": "stream",
     "text": [
      "Array 1\n",
      "[[0. 0. 0. 0.]\n",
      " [0. 0. 0. 0.]\n",
      " [0. 0. 0. 0.]\n",
      " [0. 0. 0. 0.]]\n",
      "\n",
      "Array 2\n",
      "[[1. 1. 1. 1.]\n",
      " [1. 1. 1. 1.]\n",
      " [1. 1. 1. 1.]\n",
      " [1. 1. 1. 1.]]\n",
      "\n",
      "Array 1 + Array 2\n",
      "[[1. 1. 1. 1.]\n",
      " [1. 1. 1. 1.]\n",
      " [1. 1. 1. 1.]\n",
      " [1. 1. 1. 1.]]\n"
     ]
    }
   ],
   "source": [
    "# NumPy tensor operations\n",
    "\n",
    "import numpy as np\n",
    "\n",
    "array1 = np.zeros((4,4))\n",
    "array2 = np.ones((4,4))\n",
    "print(\"Array 1\")\n",
    "print(array1)\n",
    "print(\"\")\n",
    "print(\"Array 2\")\n",
    "print(array2)\n",
    "\n",
    "result = np.add(array1, array2)\n",
    "print(\"\")\n",
    "print(\"Array 1 + Array 2\")\n",
    "print(result)\n"
   ]
  },
  {
   "cell_type": "code",
   "execution_count": 63,
   "metadata": {},
   "outputs": [
    {
     "name": "stdout",
     "output_type": "stream",
     "text": [
      "tensor([[1., 1., 1., 1.],\n",
      "        [1., 1., 1., 1.],\n",
      "        [1., 1., 1., 1.],\n",
      "        [1., 1., 1., 1.]])\n"
     ]
    }
   ],
   "source": [
    "# pytorch tensor operation\n",
    "import torch\n",
    "tensor1 = torch.zeros(4,4)\n",
    "tensor2 = torch.ones(4,4)\n",
    "result = torch.add(tensor1,tensor2)\n",
    "print(result)\n",
    "\n"
   ]
  },
  {
   "cell_type": "code",
   "execution_count": 70,
   "metadata": {},
   "outputs": [
    {
     "name": "stdout",
     "output_type": "stream",
     "text": [
      "[4 4]\n",
      "[[4 4]]\n"
     ]
    }
   ],
   "source": [
    "import numpy as np\n",
    "tensor1 = np.array((4,4))\n",
    "reshaped = tensor1.reshape(1, 2)\n",
    "print(tensor1)\n",
    "print(reshaped)\n"
   ]
  },
  {
   "cell_type": "code",
   "execution_count": 74,
   "metadata": {},
   "outputs": [
    {
     "name": "stdout",
     "output_type": "stream",
     "text": [
      "tensor([4, 4])\n",
      "tensor([[4, 4]])\n"
     ]
    }
   ],
   "source": [
    "import torch\n",
    "tensor1 = torch.tensor([4, 4])\n",
    "reshaped = tensor1.view(1,2)\n",
    "print(tensor1)\n",
    "print(reshaped)"
   ]
  },
  {
   "cell_type": "code",
   "execution_count": null,
   "metadata": {},
   "outputs": [],
   "source": [
    "# Python: Import necessary libraries/modules\n",
    "# PyTorch: Import PyTorch and its submodules\n",
    "import torch\n",
    "import torch.nn as nn\n",
    "import torch.nn.functional as F\n",
    "\n",
    "# Python: Define a class that inherits from another class\n",
    "# PyTorch: Define a neural network class that inherits from nn.Module\n",
    "class GenericNet(nn.module):\n",
    "\n",
    "    # Python: Constructor method for class initialization\n",
    "    # PyTorch: Initialize neural network layers\n",
    "    def __init__(self):\n",
    "        # Python: Call constructor of parent class\n",
    "        # PyTorch: Initialize the parent nn.Module class\n",
    "        super(GenericNet, self).__init__()\n",
    "\n",
    "        # Python: Assign attributes to the class instance\n",
    "        # PyTorch: Define convolutional layers\n",
    "        self.conv_layer1 = nn.Conv2d(1, 6, 5)\n",
    "        self.conv_layer2 = nn.Conv2d(6,15,5)\n",
    "        \n",
    "        # PyTorch: Define fully connected (dense) layers\n",
    "\n",
    "    # Python: Define a method for the class\n",
    "    # PyTorch: Define the forward pass of the neural network\n",
    "\n",
    "        # PyTorch: Apply convolution, activation function, and pooling\n",
    "        \n",
    "        # Python: Transform data\n",
    "        # PyTorch: Flatten tensor for fully connected layers\n",
    "        \n",
    "        # PyTorch: Apply fully connected layers with activation functions\n",
    "\n",
    "# Python: Create an instance of a class\n",
    "# PyTorch: Instantiate the neural network\n",
    "net = GenericNet()\n",
    "# Python: Print the representation of an object\n",
    "print(GenericNet)\n"
   ]
  }
 ],
 "metadata": {
  "kernelspec": {
   "display_name": "Python 3",
   "language": "python",
   "name": "python3"
  },
  "language_info": {
   "codemirror_mode": {
    "name": "ipython",
    "version": 3
   },
   "file_extension": ".py",
   "mimetype": "text/x-python",
   "name": "python",
   "nbconvert_exporter": "python",
   "pygments_lexer": "ipython3",
   "version": "3.11.3"
  }
 },
 "nbformat": 4,
 "nbformat_minor": 2
}
